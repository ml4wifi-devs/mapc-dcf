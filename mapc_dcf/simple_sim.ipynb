{
 "cells": [
  {
   "cell_type": "code",
   "execution_count": 1,
   "metadata": {},
   "outputs": [],
   "source": [
    "import jax\n",
    "import numpy as np\n",
    "import pandas as pd\n",
    "import matplotlib.pyplot as plt\n",
    "\n",
    "from mapc_dcf.constants import *\n",
    "\n",
    "P_COL = 0.1034\n",
    "N_FRAMES = 1e5\n",
    "SEED = 423"
   ]
  },
  {
   "cell_type": "code",
   "execution_count": 2,
   "metadata": {},
   "outputs": [],
   "source": [
    "def plot_cw(cws):\n",
    "\n",
    "    # Calculate the histogram of the CW values\n",
    "    bins = [16, 32, 64, 128, 256, 512, 1024, 1024]\n",
    "    labels = [str(b) for b in bins]\n",
    "    hist, _ = np.histogram(cws, bins=bins)\n",
    "\n",
    "    # Plot the CW distribution \n",
    "    plt.figure(figsize=(5, 3))\n",
    "    plt.bar(labels[:len(hist)], hist)\n",
    "    plt.xlabel('CW Value')\n",
    "    plt.xticks(rotation=45)\n",
    "    plt.ylabel('Count')\n",
    "    plt.yscale('log')\n",
    "    plt.ylim(bottom=0.5)\n",
    "    plt.grid(axis='y')\n",
    "\n",
    "    return hist"
   ]
  },
  {
   "cell_type": "code",
   "execution_count": 3,
   "metadata": {},
   "outputs": [
    {
     "name": "stdout",
     "output_type": "stream",
     "text": [
      "True p_col:         0.1034\n",
      "Estimated p_col:    0.10275275454904353\n",
      "Mean backoff:       8.51528012059003\n",
      "Jump ratios:        [0.10245    0.10590532 0.10506912 0.06140351 0.14285714 0.        ]\n"
     ]
    },
    {
     "data": {
      "image/png": "[encoded data removed]",
      "text/plain": [
       "<Figure size 500x300 with 1 Axes>"
      ]
     },
     "metadata": {},
     "output_type": "display_data"
    }
   ],
   "source": [
    "cws = []\n",
    "backoffs = []\n",
    "total_frames = 0\n",
    "collisions = 0\n",
    "cw = 2**CW_EXP_MIN\n",
    "key = jax.random.PRNGKey(SEED)\n",
    "for frame in range(1, int(N_FRAMES) + 1):\n",
    "    success = False\n",
    "    while not success:\n",
    "        \n",
    "        # Comment backoff selection to speed up the runtime\n",
    "        key, key_backoff = jax.random.split(key)\n",
    "        backoff = jax.random.randint(key_backoff, shape=(1,), minval=0, maxval=cw).item()\n",
    "        backoffs.append(backoff)\n",
    "\n",
    "        cws.append(cw)\n",
    "        collision = np.random.rand() <= P_COL\n",
    "        total_frames += 1\n",
    "        if collision:\n",
    "            cw = min(2*cw, 2**CW_EXP_MAX)\n",
    "            collisions += 1\n",
    "        else:\n",
    "            success = True\n",
    "            cw = 2**CW_EXP_MIN\n",
    "\n",
    "p_col = collisions / total_frames\n",
    "frequencies = plot_cw(pd.Series(cws))\n",
    "\n",
    "print(f\"True p_col:         {P_COL}\")\n",
    "print(f\"Estimated p_col:    {p_col}\")\n",
    "print(f\"Mean backoff:       {np.mean(backoffs)}\")\n",
    "print(f\"Jump ratios:        {frequencies[1:] / frequencies[:-1]}\")"
   ]
  },
  {
   "cell_type": "code",
   "execution_count": null,
   "metadata": {},
   "outputs": [],
   "source": []
  }
 ],
 "metadata": {
  "kernelspec": {
   "display_name": "pymapc310",
   "language": "python",
   "name": "python3"
  },
  "language_info": {
   "codemirror_mode": {
    "name": "ipython",
    "version": 3
   },
   "file_extension": ".py",
   "mimetype": "text/x-python",
   "name": "python",
   "nbconvert_exporter": "python",
   "pygments_lexer": "ipython3",
   "version": "3.10.4"
  }
 },
 "nbformat": 4,
 "nbformat_minor": 2
}
